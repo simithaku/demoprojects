{
  "nbformat": 4,
  "nbformat_minor": 0,
  "metadata": {
    "colab": {
      "name": "smita chap1.ipynb",
      "provenance": [],
      "collapsed_sections": []
    },
    "kernelspec": {
      "name": "python3",
      "display_name": "Python 3"
    },
    "language_info": {
      "name": "python"
    }
  },
  "cells": [
    {
      "cell_type": "code",
      "source": [
        ""
      ],
      "metadata": {
        "id": "9xm5HOwjNBEp"
      },
      "execution_count": null,
      "outputs": []
    },
    {
      "cell_type": "code",
      "source": [
        "import pandas as pd"
      ],
      "metadata": {
        "id": "ev09wHomMw9s"
      },
      "execution_count": null,
      "outputs": []
    },
    {
      "cell_type": "code",
      "execution_count": 19,
      "metadata": {
        "id": "Twib05xSNmqw"
      },
      "outputs": [],
      "source": [
        "# write a program to add a numbers in list\n",
        "numbers = [6,8,1,4,6,9]"
      ]
    },
    {
      "cell_type": "code",
      "source": [
        ""
      ],
      "metadata": {
        "id": "illDZnwcPdSv"
      },
      "execution_count": 15,
      "outputs": []
    },
    {
      "cell_type": "code",
      "source": [
        " sum = 0"
      ],
      "metadata": {
        "id": "EXFsSOpDOMgs"
      },
      "execution_count": 22,
      "outputs": []
    },
    {
      "cell_type": "code",
      "source": [
        "for val in numbers:\n",
        " sum = sum+val\n"
      ],
      "metadata": {
        "id": "mXCerxOnOR_-"
      },
      "execution_count": 23,
      "outputs": []
    },
    {
      "cell_type": "code",
      "source": [
        "print(sum)"
      ],
      "metadata": {
        "colab": {
          "base_uri": "https://localhost:8080/",
          "height": 0
        },
        "id": "o8kLOqRMOdmo",
        "outputId": "ed654e6b-bf29-4e7e-9d39-77f90fa5122d"
      },
      "execution_count": 24,
      "outputs": [
        {
          "output_type": "stream",
          "name": "stdout",
          "text": [
            "34\n"
          ]
        }
      ]
    },
    {
      "cell_type": "code",
      "source": [
        "n = 10"
      ],
      "metadata": {
        "id": "eyg-skUsO4DQ"
      },
      "execution_count": 45,
      "outputs": []
    },
    {
      "cell_type": "code",
      "source": [
        "sum1 =0 "
      ],
      "metadata": {
        "id": "Dzwwi4u-UeIf"
      },
      "execution_count": 46,
      "outputs": []
    },
    {
      "cell_type": "code",
      "source": [
        "i =1"
      ],
      "metadata": {
        "id": "FeYh7qLlUf2w"
      },
      "execution_count": 47,
      "outputs": []
    },
    {
      "cell_type": "code",
      "source": [
        "while i<=n:\n",
        "  sum1 = sum1+i\n",
        "  i = i+1"
      ],
      "metadata": {
        "id": "w8YSO__bUg7E"
      },
      "execution_count": 48,
      "outputs": []
    },
    {
      "cell_type": "code",
      "source": [
        "print('sum',sum1)\n",
        "print('i',i)"
      ],
      "metadata": {
        "colab": {
          "base_uri": "https://localhost:8080/",
          "height": 0
        },
        "id": "xu5LiD-iUlR-",
        "outputId": "a93cda12-fc9b-4916-d1a7-d5469d82e4fe"
      },
      "execution_count": 49,
      "outputs": [
        {
          "output_type": "stream",
          "name": "stdout",
          "text": [
            "sum 55\n",
            "i 11\n"
          ]
        }
      ]
    },
    {
      "cell_type": "code",
      "source": [
        "a=80\n",
        "b=7\n",
        "print(\"The sum of two is\",a+b)\n"
      ],
      "metadata": {
        "colab": {
          "base_uri": "https://localhost:8080/",
          "height": 0
        },
        "id": "Cwaf1ypGUyg-",
        "outputId": "884df513-9fcb-4d46-b4df-95f39c331ec9"
      },
      "execution_count": 9,
      "outputs": [
        {
          "output_type": "stream",
          "name": "stdout",
          "text": [
            "The sum of two is 87\n"
          ]
        }
      ]
    },
    {
      "cell_type": "code",
      "source": [
        "# to find remainder\n",
        "c=65\n",
        "d=19\n",
        "print(\"the remainder when c is divided by d  is\",c%d)"
      ],
      "metadata": {
        "colab": {
          "base_uri": "https://localhost:8080/",
          "height": 0
        },
        "id": "wXxTI9F1SpvS",
        "outputId": "135ad65f-ccce-4153-c06c-c17839606d33"
      },
      "execution_count": 12,
      "outputs": [
        {
          "output_type": "stream",
          "name": "stdout",
          "text": [
            "the remainder when c is divided by d  is 8\n"
          ]
        }
      ]
    },
    {
      "cell_type": "code",
      "source": [
        "# check the type of input\n",
        "a=34\n",
        "print(a)"
      ],
      "metadata": {
        "colab": {
          "base_uri": "https://localhost:8080/",
          "height": 0
        },
        "id": "Dfod8fgQT-K0",
        "outputId": "280ec297-5d43-4b6b-b0ec-97fd13f1eb55"
      },
      "execution_count": 27,
      "outputs": [
        {
          "output_type": "stream",
          "name": "stdout",
          "text": [
            "34\n"
          ]
        }
      ]
    },
    {
      "cell_type": "code",
      "source": [
        "a= input(\"enter a number here\")\n",
        "type(a)"
      ],
      "metadata": {
        "colab": {
          "base_uri": "https://localhost:8080/",
          "height": 0
        },
        "id": "jZiF-MZEW2qs",
        "outputId": "bc9e3258-ac39-4c8e-ae45-71f2a527e2ce"
      },
      "execution_count": 40,
      "outputs": [
        {
          "name": "stdout",
          "output_type": "stream",
          "text": [
            "enter a number here78\n"
          ]
        },
        {
          "output_type": "execute_result",
          "data": {
            "text/plain": [
              "str"
            ]
          },
          "metadata": {},
          "execution_count": 40
        }
      ]
    },
    {
      "cell_type": "code",
      "source": [
        "b=56\n",
        "c=76 \n",
        "c>b"
      ],
      "metadata": {
        "colab": {
          "base_uri": "https://localhost:8080/",
          "height": 0
        },
        "id": "sbrRbn9xaCLO",
        "outputId": "9e04e341-56da-4c6e-eaf6-e1854e16029e"
      },
      "execution_count": 45,
      "outputs": [
        {
          "output_type": "execute_result",
          "data": {
            "text/plain": [
              "True"
            ]
          },
          "metadata": {},
          "execution_count": 45
        }
      ]
    },
    {
      "cell_type": "code",
      "source": [
        "# to find the number entered by the user\n",
        "a=input(\"enter first number:\")\n",
        "b=input(\"enter the second number:\")\n",
        "a=int(a)\n",
        "b=int(b)\n",
        "avg=(a+b)/2\n",
        "print(\"the average of a and b\",avg)"
      ],
      "metadata": {
        "colab": {
          "base_uri": "https://localhost:8080/"
        },
        "id": "lPuBgPL7a-Dw",
        "outputId": "ab9970a2-a254-4009-9536-f4ab79d8b50d"
      },
      "execution_count": 52,
      "outputs": [
        {
          "output_type": "stream",
          "name": "stdout",
          "text": [
            "enter first number:90\n",
            "enter the second number:89\n",
            "the average of a and b 89.5\n"
          ]
        }
      ]
    },
    {
      "cell_type": "code",
      "source": [
        " # to find square of number enter by the user\n",
        "a=input(\"enter the first number\")\n",
        "b=input(\"enter the second number\")\n",
        "a=int(a)\n",
        "b=int(b)\n",
        "square=(a*a,b*b)\n",
        "print('the square of  a and b',a*a,b*b)"
      ],
      "metadata": {
        "colab": {
          "base_uri": "https://localhost:8080/"
        },
        "id": "aYh1vmQAdmhY",
        "outputId": "d85587a5-7b13-4415-bccf-b730db5b25ca"
      },
      "execution_count": 55,
      "outputs": [
        {
          "output_type": "stream",
          "name": "stdout",
          "text": [
            "enter the first number78\n",
            "enter the second number89\n",
            "the square of  a and b 6084 7921\n"
          ]
        }
      ]
    },
    {
      "cell_type": "code",
      "source": [
        ""
      ],
      "metadata": {
        "id": "1K90iUsWgTU8"
      },
      "execution_count": null,
      "outputs": []
    }
  ]
}